{
 "cells": [
  {
   "cell_type": "markdown",
   "metadata": {},
   "source": [
    "This notebook creates reports for a number of reference sites and sets up a periodic job to recompute each of those reports."
   ]
  },
  {
   "cell_type": "code",
   "execution_count": null,
   "metadata": {},
   "outputs": [],
   "source": [
    "import datetime as dt\n",
    "import json\n",
    "import logging\n",
    "import os \n",
    "import random\n",
    "from collections import defaultdict\n",
    "from functools import partial\n",
    "\n",
    "from flask import Flask\n",
    "import pandas as pd\n",
    "\n",
    "from solarforecastarbiter import datamodel\n",
    "from solarforecastarbiter.io import api\n",
    "from solarforecastarbiter.reports.main import infer_timezone\n",
    "from sfa_api import jobs\n",
    "from sfa_api.utils import storage_interface"
   ]
  },
  {
   "cell_type": "markdown",
   "metadata": {},
   "source": [
    "A number of config parameters must be set in order for this to function including:\n",
    "- API_USER\n",
    "- API_PASSWORD\n",
    "- BASE_URL\n",
    "- MYSQL_USER\n",
    "- MYSQL_PASSWORD\n",
    "- MYSQL_HOST\n",
    "- MYSQL_PORT\n",
    "- MYSQL_DATABASE"
   ]
  },
  {
   "cell_type": "code",
   "execution_count": null,
   "metadata": {},
   "outputs": [],
   "source": [
    "app = Flask('create_report_jobs')\n",
    "app.config.from_envvar('REPORT_CONFIG')"
   ]
  },
  {
   "cell_type": "code",
   "execution_count": null,
   "metadata": {},
   "outputs": [],
   "source": [
    "logging.basicConfig(level=logging.INFO)\n",
    "user = app.config['API_USER']\n",
    "password = app.config['API_PASSWORD']\n",
    "token = api.request_cli_access_token(user, password)\n",
    "base_url = app.config['BASE_URL']\n",
    "session = api.APISession(base_url=base_url, access_token=token)\n",
    "organization = 'Reference'"
   ]
  },
  {
   "cell_type": "code",
   "execution_count": null,
   "metadata": {},
   "outputs": [],
   "source": [
    "networks = ('NOAA SURFRAD', 'NOAA SOLRAD', 'DOE RTC', 'NREL MIDC')\n",
    "reference_sites = []\n",
    "for site in session.list_sites():\n",
    "    if site.provider == organization:\n",
    "        try:\n",
    "            extra = json.loads(site.extra_parameters)\n",
    "        except Exception:\n",
    "            logging.warning(f'Unable to decode extra params for {site.name}')\n",
    "            continue\n",
    "        if 'network' in extra and extra['network'] in networks:\n",
    "            reference_sites.append(site)"
   ]
  },
  {
   "cell_type": "code",
   "execution_count": null,
   "metadata": {},
   "outputs": [],
   "source": [
    "variables = ('ghi', 'dni', 'ac_power')\n",
    "\n",
    "forecasts = defaultdict(partial(defaultdict, list))\n",
    "for fx in session.list_forecasts():\n",
    "    if fx.site in reference_sites and fx.variable in variables:\n",
    "        forecasts[fx.variable][fx.site.site_id].append(fx)\n",
    "        \n",
    "observations = defaultdict(dict)\n",
    "for obs in session.list_observations():\n",
    "    if obs.site in reference_sites and obs.variable in variables:\n",
    "        observations[obs.variable][obs.site.site_id] = obs"
   ]
  },
  {
   "cell_type": "code",
   "execution_count": null,
   "metadata": {},
   "outputs": [],
   "source": [
    "base_report_parameters = datamodel.ReportParameters(\n",
    "    name='replaceme',\n",
    "    start=pd.Timestamp('2020-01-01T00:00:00Z'),\n",
    "    end=pd.Timestamp('2020-12-31T23:59:59Z'),\n",
    "    object_pairs=(),\n",
    "    metrics=('mbe', 'mae', 'rmse'),\n",
    "    categories=('total', 'month', 'hour', 'weekday', 'date'),\n",
    "    filters=[datamodel.QualityFlagFilter(['NIGHTTIME', 'USER FLAGGED'])]\n",
    ")\n"
   ]
  },
  {
   "cell_type": "code",
   "execution_count": null,
   "metadata": {},
   "outputs": [],
   "source": [
    "report_ids = []\n",
    "current_reports = {r.report_parameters.name: (r.report_id, r.report_parameters)\n",
    "                   for r in session.list_reports()}\n",
    "for site in reference_sites:\n",
    "    for variable in variables:\n",
    "        sitename = site.name[:50]\n",
    "        report_name = f'2020 {sitename} {datamodel.COMMON_NAMES[variable]}'\n",
    "        if report_name in current_reports:\n",
    "            params = current_reports[report_name]\n",
    "            report_ids.append(\n",
    "                (params[0], infer_timezone(params[1])))\n",
    "            continue\n",
    "        try:\n",
    "            obs = observations[variable][site.site_id]\n",
    "        except KeyError:\n",
    "            logging.warning(f'Missing observation for {variable} {site.name}')\n",
    "            continue\n",
    "        try:\n",
    "            fxs = forecasts[variable][site.site_id]\n",
    "        except KeyError:\n",
    "            logging.warning(f'Missing forecast for {variable} {site.name}')\n",
    "            continue\n",
    "        object_pairs = [\n",
    "            datamodel.ForecastObservation(\n",
    "                observation=obs, forecast=fx\n",
    "            ) for fx in fxs\n",
    "        ]\n",
    "        if len(object_pairs) == 0:\n",
    "            logging.warning(f'No forecast/observation pairs for {variable} {site.name}')\n",
    "            continue\n",
    "        report_params = base_report_parameters.replace(\n",
    "            name=report_name, object_pairs=object_pairs\n",
    "        ) \n",
    "        logging.info(f'Creating report {report_name}')\n",
    "        new_report = session.create_report(\n",
    "            datamodel.Report(report_parameters=report_params)\n",
    "        )\n",
    "        tz = infer_timezone(report_params)\n",
    "        report_ids.append((new_report.report_id, tz))\n"
   ]
  },
  {
   "cell_type": "code",
   "execution_count": null,
   "metadata": {},
   "outputs": [],
   "source": [
    "with app.app_context():\n",
    "    current_jobs = storage_interface._call_procedure('list_jobs', with_current_user=False)"
   ]
  },
  {
   "cell_type": "code",
   "execution_count": null,
   "metadata": {},
   "outputs": [],
   "source": [
    "user_id = session.get_user_info()['user_id']"
   ]
  },
  {
   "cell_type": "code",
   "execution_count": null,
   "metadata": {},
   "outputs": [],
   "source": [
    "report_jobs = [job['parameters']['report_id'] for job in current_jobs \n",
    "               if job['organization_name'] == organization and \n",
    "               job['job_type'] == 'periodic_report']\n"
   ]
  },
  {
   "cell_type": "code",
   "execution_count": null,
   "metadata": {},
   "outputs": [],
   "source": [
    "new_jobs = []\n",
    "for report_id, tz in report_ids:\n",
    "    hr = pd.Timestamp('20200101T0000', tz=tz).tz_convert('UTC').hour\n",
    "    cron = f'{random.randint(0, 30)} {hr} * * *'\n",
    "    timeout = '5m'\n",
    "    job_name = f'{report_id} regen'\n",
    "    if report_id in report_jobs:\n",
    "        logging.warning(f'Job to recompute report {report_id} exists')\n",
    "    else:\n",
    "        with app.app_context():\n",
    "            jobs.create_job('periodic_report', job_name, user_id, cron, timeout,\n",
    "                            report_id=report_id, base_url=base_url)\n",
    "        logging.info(f'Created report job for {report_id}')\n",
    "        new_jobs.append(job_name)\n",
    "    "
   ]
  },
  {
   "cell_type": "code",
   "execution_count": null,
   "metadata": {},
   "outputs": [],
   "source": [
    "with app.app_context():\n",
    "    alljobs = storage_interface._call_procedure('list_jobs', with_current_user=False)"
   ]
  },
  {
   "cell_type": "code",
   "execution_count": null,
   "metadata": {},
   "outputs": [],
   "source": [
    "assert set(new_jobs) <= {j['name'] for j in alljobs}"
   ]
  }
 ],
 "metadata": {
  "kernelspec": {
   "display_name": "Python 3",
   "language": "python",
   "name": "python3"
  },
  "language_info": {
   "codemirror_mode": {
    "name": "ipython",
    "version": 3
   },
   "file_extension": ".py",
   "mimetype": "text/x-python",
   "name": "python",
   "nbconvert_exporter": "python",
   "pygments_lexer": "ipython3",
   "version": "3.7.3"
  }
 },
 "nbformat": 4,
 "nbformat_minor": 2
}
